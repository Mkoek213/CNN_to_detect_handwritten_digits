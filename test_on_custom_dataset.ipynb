{
 "cells": [
  {
   "cell_type": "markdown",
   "id": "c62a551e",
   "metadata": {},
   "source": [
    "## Importing MNIST dataset from the Keras module"
   ]
  },
  {
   "cell_type": "code",
   "execution_count": 1,
   "id": "a473e026",
   "metadata": {},
   "outputs": [
    {
     "name": "stderr",
     "output_type": "stream",
     "text": [
      "2024-04-29 20:16:40.481280: I tensorflow/stream_executor/platform/default/dso_loader.cc:49] Successfully opened dynamic library libcudart.so.10.1\n"
     ]
    }
   ],
   "source": [
    "from tensorflow import keras\n",
    "from keras.datasets import mnist\n",
    "from matplotlib import pyplot as plt\n",
    "import tensorflow as tf\n",
    "import numpy as np\n",
    "from tensorflow.keras.models import Sequential\n",
    "from tensorflow.keras.layers import Dense, Dropout, Activation, Flatten, Conv2D, MaxPooling2D\n",
    "from keras.preprocessing.image import ImageDataGenerator"
   ]
  },
  {
   "cell_type": "markdown",
   "id": "652d9a9e",
   "metadata": {},
   "source": [
    "## Load your custom data"
   ]
  },
  {
   "cell_type": "code",
   "execution_count": 2,
   "id": "18ea6abf",
   "metadata": {},
   "outputs": [],
   "source": [
    "import os\n",
    "import cv2\n",
    "import numpy as np"
   ]
  },
  {
   "cell_type": "markdown",
   "id": "3e0d61fd",
   "metadata": {},
   "source": [
    "## Apply data augmentation and retrieve augmented samples(each time you run this code, 1000 samples will be added to your dataset)"
   ]
  },
  {
   "cell_type": "code",
   "execution_count": 3,
   "id": "2e67f17d",
   "metadata": {},
   "outputs": [],
   "source": [
    "# # Define the path to your dataset directory\n",
    "# dataset_dir = \"fine_tune_data\"\n",
    "\n",
    "# # Define the list of class names\n",
    "# class_names = sorted(os.listdir(dataset_dir))\n",
    "\n",
    "# # Define the number of images you want to generate for each class\n",
    "# num_images_per_class = 100\n",
    "\n",
    "# # Initialize ImageDataGenerator for augmentation\n",
    "# datagen = ImageDataGenerator(\n",
    "#     rotation_range=25,  # Rotate images randomly up to 20 degrees\n",
    "#     width_shift_range=0.1,  # Shift images horizontally by up to 10%\n",
    "#     height_shift_range=0.1,  # Shift images vertically by up to 10%\n",
    "#     zoom_range=0.1,  # Zoom images by up to 10%\n",
    "#     horizontal_flip=False,  # Flip images horizontally\n",
    "#     vertical_flip=False,  # Do not flip images vertically\n",
    "#     fill_mode='nearest'  # Fill in missing pixels with the nearest value\n",
    "# )\n",
    "\n",
    "# # Loop through each class folder\n",
    "# for class_name in class_names:\n",
    "#     class_dir = os.path.join(dataset_dir, class_name)\n",
    "#     images = []\n",
    "    \n",
    "#     # Loop through each image in the class folder\n",
    "#     for image_name in os.listdir(class_dir):\n",
    "#         image_path = os.path.join(class_dir, image_name)\n",
    "#         image = cv2.imread(image_path, cv2.IMREAD_GRAYSCALE)  # Read image in grayscale\n",
    "#         image = cv2.resize(image, (28, 28))  # Resize image to 28x28 (assuming your model expects this size)\n",
    "#         images.append(image)\n",
    "    \n",
    "#     # Convert images to numpy array\n",
    "#     x_train_custom = np.array(images)\n",
    "#     x_train_custom = np.expand_dims(x_train_custom, axis=-1)  # Add channel dimension for grayscale images\n",
    "    \n",
    "#     # Generate augmented images\n",
    "#     i = 0\n",
    "#     for batch in datagen.flow(x_train_custom, batch_size=1, save_to_dir=class_dir, save_prefix=class_name, save_format='png'):\n",
    "#         i += 1\n",
    "#         if i >= num_images_per_class:\n",
    "#             break  # Break the loop after generating desired number of images"
   ]
  },
  {
   "cell_type": "code",
   "execution_count": 4,
   "id": "58b3255b",
   "metadata": {},
   "outputs": [],
   "source": [
    "dataset_dir = \"fine_tune_data\"\n",
    "class_names = sorted(os.listdir(dataset_dir))\n",
    "images = []\n",
    "labels = []"
   ]
  },
  {
   "cell_type": "code",
   "execution_count": 5,
   "id": "8e676aad",
   "metadata": {},
   "outputs": [],
   "source": [
    "for class_name in class_names:\n",
    "    class_dir = os.path.join(dataset_dir, class_name)\n",
    "    for image_name in os.listdir(class_dir):\n",
    "        image_path = os.path.join(class_dir, image_name)\n",
    "        image = cv2.imread(image_path, cv2.IMREAD_GRAYSCALE)\n",
    "        image = cv2.resize(image, (28, 28)) # Read image in grayscale\n",
    "        images.append(image)\n",
    "        labels.append(int(class_name))  # Convert class name to integer"
   ]
  },
  {
   "cell_type": "code",
   "execution_count": 6,
   "id": "39b5268d",
   "metadata": {},
   "outputs": [],
   "source": [
    "x_train_custom = np.array(images)\n",
    "y_train_custom = np.array(labels)\n",
    "x_train_custom = tf.keras.utils.normalize(x_train_custom, axis=1)"
   ]
  },
  {
   "cell_type": "code",
   "execution_count": 7,
   "id": "ef86960c",
   "metadata": {},
   "outputs": [],
   "source": [
    "IMG_SIZE=28\n",
    "NUM_EXAMPLES_TRAIN = np.shape(x_train_custom)[0]\n",
    "x_train_custom = np.array(x_train_custom).reshape(-1, IMG_SIZE, IMG_SIZE, 1)"
   ]
  },
  {
   "cell_type": "code",
   "execution_count": 8,
   "id": "b94ae864",
   "metadata": {},
   "outputs": [
    {
     "data": {
      "text/plain": [
       "(3696, 28, 28, 1)"
      ]
     },
     "execution_count": 8,
     "metadata": {},
     "output_type": "execute_result"
    }
   ],
   "source": [
    "x_train_custom.shape"
   ]
  },
  {
   "cell_type": "code",
   "execution_count": 9,
   "id": "ba0d35c3",
   "metadata": {},
   "outputs": [],
   "source": [
    "# Combine x_train and y_train into one array\n",
    "combined_data = list(zip(x_train_custom, y_train_custom))\n",
    "\n",
    "# Shuffle the combined data\n",
    "np.random.shuffle(combined_data)\n",
    "\n",
    "# Unpack the shuffled data into separate arrays\n",
    "shuffled_x_train, shuffled_y_train = zip(*combined_data)\n",
    "shuffled_x_train = np.array(shuffled_x_train)\n",
    "shuffled_y_train = np.array(shuffled_y_train)"
   ]
  },
  {
   "cell_type": "code",
   "execution_count": 10,
   "id": "bfea746f",
   "metadata": {},
   "outputs": [
    {
     "data": {
      "image/png": "[encoded data removed]",
      "text/plain": [
       "<Figure size 640x480 with 1 Axes>"
      ]
     },
     "metadata": {},
     "output_type": "display_data"
    },
    {
     "name": "stdout",
     "output_type": "stream",
     "text": [
      "Corresponding label:5\n"
     ]
    },
    {
     "data": {
      "image/png": "[encoded data removed]",
      "text/plain": [
       "<Figure size 640x480 with 1 Axes>"
      ]
     },
     "metadata": {},
     "output_type": "display_data"
    },
    {
     "name": "stdout",
     "output_type": "stream",
     "text": [
      "Corresponding label:4\n"
     ]
    },
    {
     "data": {
      "image/png": "[encoded data removed]",
      "text/plain": [
       "<Figure size 640x480 with 1 Axes>"
      ]
     },
     "metadata": {},
     "output_type": "display_data"
    },
    {
     "name": "stdout",
     "output_type": "stream",
     "text": [
      "Corresponding label:7\n"
     ]
    },
    {
     "data": {
      "image/png": "[encoded data removed]",
      "text/plain": [
       "<Figure size 640x480 with 1 Axes>"
      ]
     },
     "metadata": {},
     "output_type": "display_data"
    },
    {
     "name": "stdout",
     "output_type": "stream",
     "text": [
      "Corresponding label:9\n"
     ]
    },
    {
     "data": {
      "image/png": "[encoded data removed]",
      "text/plain": [
       "<Figure size 640x480 with 1 Axes>"
      ]
     },
     "metadata": {},
     "output_type": "display_data"
    },
    {
     "name": "stdout",
     "output_type": "stream",
     "text": [
      "Corresponding label:9\n"
     ]
    },
    {
     "data": {
      "image/png": "[encoded data removed]",
      "text/plain": [
       "<Figure size 640x480 with 1 Axes>"
      ]
     },
     "metadata": {},
     "output_type": "display_data"
    },
    {
     "name": "stdout",
     "output_type": "stream",
     "text": [
      "Corresponding label:4\n"
     ]
    },
    {
     "data": {
      "image/png": "[encoded data removed]",
      "text/plain": [
       "<Figure size 640x480 with 1 Axes>"
      ]
     },
     "metadata": {},
     "output_type": "display_data"
    },
    {
     "name": "stdout",
     "output_type": "stream",
     "text": [
      "Corresponding label:7\n"
     ]
    },
    {
     "data": {
      "image/png": "[encoded data removed]",
      "text/plain": [
       "<Figure size 640x480 with 1 Axes>"
      ]
     },
     "metadata": {},
     "output_type": "display_data"
    },
    {
     "name": "stdout",
     "output_type": "stream",
     "text": [
      "Corresponding label:9\n"
     ]
    },
    {
     "data": {
      "image/png": "[encoded data removed]",
      "text/plain": [
       "<Figure size 640x480 with 1 Axes>"
      ]
     },
     "metadata": {},
     "output_type": "display_data"
    },
    {
     "name": "stdout",
     "output_type": "stream",
     "text": [
      "Corresponding label:5\n"
     ]
    }
   ],
   "source": [
    "for i in range(9):  \n",
    "    plt.subplot(330 + 1 + i)\n",
    "    plt.imshow(shuffled_x_train[i], cmap=plt.get_cmap('gray'))\n",
    "    plt.show()\n",
    "    print(f\"Corresponding label:{shuffled_y_train[i]}\")"
   ]
  },
  {
   "cell_type": "code",
   "execution_count": 11,
   "id": "633fc5b8",
   "metadata": {},
   "outputs": [
    {
     "data": {
      "text/plain": [
       "<matplotlib.image.AxesImage at 0x7d16cfadc2d0>"
      ]
     },
     "execution_count": 11,
     "metadata": {},
     "output_type": "execute_result"
    },
    {
     "data": {
      "image/png": "[encoded data removed]",
      "text/plain": [
       "<Figure size 640x480 with 1 Axes>"
      ]
     },
     "metadata": {},
     "output_type": "display_data"
    }
   ],
   "source": [
    "plt.imshow(shuffled_x_train[62])"
   ]
  },
  {
   "cell_type": "code",
   "execution_count": 12,
   "id": "043764bd",
   "metadata": {},
   "outputs": [
    {
     "name": "stdout",
     "output_type": "stream",
     "text": [
      "(3696,)\n"
     ]
    }
   ],
   "source": [
    "print(shuffled_y_train.shape)"
   ]
  },
  {
   "cell_type": "code",
   "execution_count": 13,
   "id": "73f1050c",
   "metadata": {},
   "outputs": [],
   "source": [
    "# for i in range(2073):  \n",
    "# #     plt.subplot(330 + 1 + i)\n",
    "#     plt.imshow(shuffled_x_train[i], cmap=plt.get_cmap('gray'))\n",
    "#     plt.show()\n",
    "#     print(f\"Corresponding label:{shuffled_y_train[i]}\")"
   ]
  },
  {
   "cell_type": "markdown",
   "id": "08208ff7",
   "metadata": {},
   "source": [
    "## After analyzing the newly created examples and removing the deviant parts, 2073 samples remained. Now you can finetune the model on your dataset. As you could see in the test video, the model had problems predicting the number 9, mistaking it for 0. After fine tuining the model to our needs, it should no longer have a problem with this.\n"
   ]
  },
  {
   "cell_type": "code",
   "execution_count": 14,
   "id": "36b65c97",
   "metadata": {},
   "outputs": [
    {
     "name": "stderr",
     "output_type": "stream",
     "text": [
      "2024-04-29 20:16:43.749827: I tensorflow/compiler/jit/xla_cpu_device.cc:41] Not creating XLA devices, tf_xla_enable_xla_devices not set\n",
      "2024-04-29 20:16:43.750806: I tensorflow/stream_executor/platform/default/dso_loader.cc:49] Successfully opened dynamic library libcuda.so.1\n",
      "2024-04-29 20:16:43.762904: I tensorflow/stream_executor/cuda/cuda_gpu_executor.cc:941] successful NUMA node read from SysFS had negative value (-1), but there must be at least one NUMA node, so returning NUMA node zero\n",
      "2024-04-29 20:16:43.763063: I tensorflow/core/common_runtime/gpu/gpu_device.cc:1720] Found device 0 with properties: \n",
      "pciBusID: 0000:01:00.0 name: NVIDIA GeForce GTX 960 computeCapability: 5.2\n",
      "coreClock: 1.2785GHz coreCount: 8 deviceMemorySize: 3.94GiB deviceMemoryBandwidth: 104.46GiB/s\n",
      "2024-04-29 20:16:43.763079: I tensorflow/stream_executor/platform/default/dso_loader.cc:49] Successfully opened dynamic library libcudart.so.10.1\n",
      "2024-04-29 20:16:43.764909: I tensorflow/stream_executor/platform/default/dso_loader.cc:49] Successfully opened dynamic library libcublas.so.10\n",
      "2024-04-29 20:16:43.764962: I tensorflow/stream_executor/platform/default/dso_loader.cc:49] Successfully opened dynamic library libcublasLt.so.10\n",
      "2024-04-29 20:16:43.766450: I tensorflow/stream_executor/platform/default/dso_loader.cc:49] Successfully opened dynamic library libcufft.so.10\n",
      "2024-04-29 20:16:43.766752: I tensorflow/stream_executor/platform/default/dso_loader.cc:49] Successfully opened dynamic library libcurand.so.10\n",
      "2024-04-29 20:16:43.768225: I tensorflow/stream_executor/platform/default/dso_loader.cc:49] Successfully opened dynamic library libcusolver.so.10\n",
      "2024-04-29 20:16:43.768812: I tensorflow/stream_executor/platform/default/dso_loader.cc:49] Successfully opened dynamic library libcusparse.so.10\n",
      "2024-04-29 20:16:43.771764: I tensorflow/stream_executor/platform/default/dso_loader.cc:49] Successfully opened dynamic library libcudnn.so.7\n",
      "2024-04-29 20:16:43.771897: I tensorflow/stream_executor/cuda/cuda_gpu_executor.cc:941] successful NUMA node read from SysFS had negative value (-1), but there must be at least one NUMA node, so returning NUMA node zero\n",
      "2024-04-29 20:16:43.772104: I tensorflow/stream_executor/cuda/cuda_gpu_executor.cc:941] successful NUMA node read from SysFS had negative value (-1), but there must be at least one NUMA node, so returning NUMA node zero\n",
      "2024-04-29 20:16:43.772208: I tensorflow/core/common_runtime/gpu/gpu_device.cc:1862] Adding visible gpu devices: 0\n",
      "2024-04-29 20:16:43.772714: I tensorflow/core/platform/cpu_feature_guard.cc:142] This TensorFlow binary is optimized with oneAPI Deep Neural Network Library (oneDNN) to use the following CPU instructions in performance-critical operations:  SSE4.1 SSE4.2 AVX AVX2 FMA\n",
      "To enable them in other operations, rebuild TensorFlow with the appropriate compiler flags.\n",
      "2024-04-29 20:16:43.773081: I tensorflow/compiler/jit/xla_gpu_device.cc:99] Not creating XLA devices, tf_xla_enable_xla_devices not set\n",
      "2024-04-29 20:16:43.773171: I tensorflow/stream_executor/cuda/cuda_gpu_executor.cc:941] successful NUMA node read from SysFS had negative value (-1), but there must be at least one NUMA node, so returning NUMA node zero\n",
      "2024-04-29 20:16:43.773312: I tensorflow/core/common_runtime/gpu/gpu_device.cc:1720] Found device 0 with properties: \n",
      "pciBusID: 0000:01:00.0 name: NVIDIA GeForce GTX 960 computeCapability: 5.2\n",
      "coreClock: 1.2785GHz coreCount: 8 deviceMemorySize: 3.94GiB deviceMemoryBandwidth: 104.46GiB/s\n",
      "2024-04-29 20:16:43.773330: I tensorflow/stream_executor/platform/default/dso_loader.cc:49] Successfully opened dynamic library libcudart.so.10.1\n",
      "2024-04-29 20:16:43.773353: I tensorflow/stream_executor/platform/default/dso_loader.cc:49] Successfully opened dynamic library libcublas.so.10\n",
      "2024-04-29 20:16:43.773367: I tensorflow/stream_executor/platform/default/dso_loader.cc:49] Successfully opened dynamic library libcublasLt.so.10\n",
      "2024-04-29 20:16:43.773381: I tensorflow/stream_executor/platform/default/dso_loader.cc:49] Successfully opened dynamic library libcufft.so.10\n",
      "2024-04-29 20:16:43.773395: I tensorflow/stream_executor/platform/default/dso_loader.cc:49] Successfully opened dynamic library libcurand.so.10\n",
      "2024-04-29 20:16:43.773408: I tensorflow/stream_executor/platform/default/dso_loader.cc:49] Successfully opened dynamic library libcusolver.so.10\n",
      "2024-04-29 20:16:43.773423: I tensorflow/stream_executor/platform/default/dso_loader.cc:49] Successfully opened dynamic library libcusparse.so.10\n",
      "2024-04-29 20:16:43.773436: I tensorflow/stream_executor/platform/default/dso_loader.cc:49] Successfully opened dynamic library libcudnn.so.7\n",
      "2024-04-29 20:16:43.773493: I tensorflow/stream_executor/cuda/cuda_gpu_executor.cc:941] successful NUMA node read from SysFS had negative value (-1), but there must be at least one NUMA node, so returning NUMA node zero\n",
      "2024-04-29 20:16:43.773640: I tensorflow/stream_executor/cuda/cuda_gpu_executor.cc:941] successful NUMA node read from SysFS had negative value (-1), but there must be at least one NUMA node, so returning NUMA node zero\n",
      "2024-04-29 20:16:43.773739: I tensorflow/core/common_runtime/gpu/gpu_device.cc:1862] Adding visible gpu devices: 0\n",
      "2024-04-29 20:16:43.773766: I tensorflow/stream_executor/platform/default/dso_loader.cc:49] Successfully opened dynamic library libcudart.so.10.1\n",
      "2024-04-29 20:16:44.240658: I tensorflow/core/common_runtime/gpu/gpu_device.cc:1261] Device interconnect StreamExecutor with strength 1 edge matrix:\n",
      "2024-04-29 20:16:44.240683: I tensorflow/core/common_runtime/gpu/gpu_device.cc:1267]      0 \n",
      "2024-04-29 20:16:44.240690: I tensorflow/core/common_runtime/gpu/gpu_device.cc:1280] 0:   N \n",
      "2024-04-29 20:16:44.240950: I tensorflow/stream_executor/cuda/cuda_gpu_executor.cc:941] successful NUMA node read from SysFS had negative value (-1), but there must be at least one NUMA node, so returning NUMA node zero\n",
      "2024-04-29 20:16:44.241149: I tensorflow/stream_executor/cuda/cuda_gpu_executor.cc:941] successful NUMA node read from SysFS had negative value (-1), but there must be at least one NUMA node, so returning NUMA node zero\n",
      "2024-04-29 20:16:44.241305: I tensorflow/stream_executor/cuda/cuda_gpu_executor.cc:941] successful NUMA node read from SysFS had negative value (-1), but there must be at least one NUMA node, so returning NUMA node zero\n",
      "2024-04-29 20:16:44.241424: I tensorflow/core/common_runtime/gpu/gpu_device.cc:1406] Created TensorFlow device (/job:localhost/replica:0/task:0/device:GPU:0 with 3287 MB memory) -> physical GPU (device: 0, name: NVIDIA GeForce GTX 960, pci bus id: 0000:01:00.0, compute capability: 5.2)\n"
     ]
    }
   ],
   "source": [
    "model_1_to_tune = keras.models.load_model(\"model_1.h5\")"
   ]
  },
  {
   "cell_type": "code",
   "execution_count": 15,
   "id": "b6f8288a",
   "metadata": {},
   "outputs": [],
   "source": [
    "for layer in model_1_to_tune.layers[:-3]:\n",
    "    layer.trainable = False"
   ]
  },
  {
   "cell_type": "code",
   "execution_count": 16,
   "id": "c07f33c3",
   "metadata": {},
   "outputs": [],
   "source": [
    "class ADJUSTLR(keras.callbacks.Callback):\n",
    "    def __init__ (self, model, freq, factor, verbose):\n",
    "        self.model=model\n",
    "        self.freq=freq\n",
    "        self.factor =factor\n",
    "        self.verbose=verbose\n",
    "        self.adj_epoch=freq\n",
    "    def on_epoch_end(self, epoch, logs=None):\n",
    "        if epoch + 1 == self.adj_epoch: # adjust the learning rate\n",
    "            lr=float(tf.keras.backend.get_value(self.model.optimizer.lr)) # get the current learning rate\n",
    "            new_lr=lr * self.factor\n",
    "            self.adj_epoch +=self.freq\n",
    "            if self.verbose == 1:\n",
    "                print('\\non epoch ',epoch + 1, ' lr was adjusted from ', lr, ' to ', new_lr)\n",
    "            tf.keras.backend.set_value(self.model.optimizer.lr, new_lr) # set the learning rate in the optimizer"
   ]
  },
  {
   "cell_type": "code",
   "execution_count": 17,
   "id": "4174e4cb",
   "metadata": {},
   "outputs": [],
   "source": [
    "freq=10\n",
    "factor=.7\n",
    "verbose=1\n",
    "callbacks=[ADJUSTLR(model_1_to_tune, freq, factor, verbose)]"
   ]
  },
  {
   "cell_type": "code",
   "execution_count": 18,
   "id": "8bd038a6",
   "metadata": {},
   "outputs": [],
   "source": [
    "model_1_to_tune.compile(loss = \"sparse_categorical_crossentropy\", optimizer = keras.optimizers.Adam(learning_rate=0.1), metrics=['accuracy'])"
   ]
  },
  {
   "cell_type": "code",
   "execution_count": 19,
   "id": "662af4f3",
   "metadata": {},
   "outputs": [
    {
     "name": "stdout",
     "output_type": "stream",
     "text": [
      "Model: \"sequential\"\n",
      "_________________________________________________________________\n",
      "Layer (type)                 Output Shape              Param #   \n",
      "=================================================================\n",
      "conv2d (Conv2D)              (None, 26, 26, 32)        320       \n",
      "_________________________________________________________________\n",
      "batch_normalization (BatchNo (None, 26, 26, 32)        128       \n",
      "_________________________________________________________________\n",
      "conv2d_1 (Conv2D)            (None, 24, 24, 32)        9248      \n",
      "_________________________________________________________________\n",
      "batch_normalization_1 (Batch (None, 24, 24, 32)        128       \n",
      "_________________________________________________________________\n",
      "conv2d_2 (Conv2D)            (None, 12, 12, 32)        25632     \n",
      "_________________________________________________________________\n",
      "batch_normalization_2 (Batch (None, 12, 12, 32)        128       \n",
      "_________________________________________________________________\n",
      "dropout (Dropout)            (None, 12, 12, 32)        0         \n",
      "_________________________________________________________________\n",
      "conv2d_3 (Conv2D)            (None, 10, 10, 64)        18496     \n",
      "_________________________________________________________________\n",
      "batch_normalization_3 (Batch (None, 10, 10, 64)        256       \n",
      "_________________________________________________________________\n",
      "conv2d_4 (Conv2D)            (None, 8, 8, 64)          36928     \n",
      "_________________________________________________________________\n",
      "batch_normalization_4 (Batch (None, 8, 8, 64)          256       \n",
      "_________________________________________________________________\n",
      "conv2d_5 (Conv2D)            (None, 4, 4, 64)          102464    \n",
      "_________________________________________________________________\n",
      "batch_normalization_5 (Batch (None, 4, 4, 64)          256       \n",
      "_________________________________________________________________\n",
      "dropout_1 (Dropout)          (None, 4, 4, 64)          0         \n",
      "_________________________________________________________________\n",
      "flatten (Flatten)            (None, 1024)              0         \n",
      "_________________________________________________________________\n",
      "dense (Dense)                (None, 128)               131200    \n",
      "_________________________________________________________________\n",
      "batch_normalization_6 (Batch (None, 128)               512       \n",
      "_________________________________________________________________\n",
      "dropout_2 (Dropout)          (None, 128)               0         \n",
      "_________________________________________________________________\n",
      "dense_1 (Dense)              (None, 10)                1290      \n",
      "=================================================================\n",
      "Total params: 327,242\n",
      "Trainable params: 1,546\n",
      "Non-trainable params: 325,696\n",
      "_________________________________________________________________\n"
     ]
    }
   ],
   "source": [
    "model_1_to_tune.summary()"
   ]
  },
  {
   "cell_type": "code",
   "execution_count": 20,
   "id": "46cdbc63",
   "metadata": {},
   "outputs": [
    {
     "name": "stdout",
     "output_type": "stream",
     "text": [
      "(3696, 28, 28, 1)\n"
     ]
    }
   ],
   "source": [
    "print(shuffled_x_train.shape)"
   ]
  },
  {
   "cell_type": "code",
   "execution_count": 21,
   "id": "722a2db7",
   "metadata": {},
   "outputs": [
    {
     "name": "stdout",
     "output_type": "stream",
     "text": [
      "Epoch 1/100\n"
     ]
    },
    {
     "name": "stderr",
     "output_type": "stream",
     "text": [
      "2024-04-29 20:16:44.600452: I tensorflow/compiler/mlir/mlir_graph_optimization_pass.cc:116] None of the MLIR optimization passes are enabled (registered 2)\n",
      "2024-04-29 20:16:44.600892: I tensorflow/core/platform/profile_utils/cpu_utils.cc:112] CPU Frequency: 3199980000 Hz\n",
      "2024-04-29 20:16:45.215677: I tensorflow/stream_executor/platform/default/dso_loader.cc:49] Successfully opened dynamic library libcublas.so.10\n",
      "2024-04-29 20:16:45.363114: I tensorflow/stream_executor/platform/default/dso_loader.cc:49] Successfully opened dynamic library libcudnn.so.7\n"
     ]
    },
    {
     "name": "stdout",
     "output_type": "stream",
     "text": [
      "11/11 [==============================] - 2s 77ms/step - loss: 1.8174 - accuracy: 0.6802 - val_loss: 0.5443 - val_accuracy: 0.8350\n",
      "Epoch 2/100\n",
      "11/11 [==============================] - 0s 21ms/step - loss: 0.7598 - accuracy: 0.7863 - val_loss: 0.5164 - val_accuracy: 0.8287\n",
      "Epoch 3/100\n",
      "11/11 [==============================] - 0s 22ms/step - loss: 0.6937 - accuracy: 0.7898 - val_loss: 0.3935 - val_accuracy: 0.8683\n",
      "Epoch 4/100\n",
      "11/11 [==============================] - 0s 22ms/step - loss: 0.5986 - accuracy: 0.8250 - val_loss: 0.3452 - val_accuracy: 0.8963\n",
      "Epoch 5/100\n",
      "11/11 [==============================] - 0s 22ms/step - loss: 0.6427 - accuracy: 0.8136 - val_loss: 0.3509 - val_accuracy: 0.8918\n",
      "Epoch 6/100\n",
      "11/11 [==============================] - 0s 22ms/step - loss: 0.6307 - accuracy: 0.8004 - val_loss: 0.4374 - val_accuracy: 0.8557\n",
      "Epoch 7/100\n",
      "11/11 [==============================] - 0s 20ms/step - loss: 0.6519 - accuracy: 0.8088 - val_loss: 0.3816 - val_accuracy: 0.8792\n",
      "Epoch 8/100\n",
      "11/11 [==============================] - 0s 20ms/step - loss: 0.5980 - accuracy: 0.8177 - val_loss: 0.3323 - val_accuracy: 0.8945\n",
      "Epoch 9/100\n",
      "11/11 [==============================] - 0s 22ms/step - loss: 0.5713 - accuracy: 0.8271 - val_loss: 0.3709 - val_accuracy: 0.8828\n",
      "Epoch 10/100\n",
      "11/11 [==============================] - 0s 22ms/step - loss: 0.6348 - accuracy: 0.8163 - val_loss: 0.3905 - val_accuracy: 0.8810\n",
      "\n",
      "on epoch  10  lr was adjusted from  0.10000000149011612  to  0.07000000104308128\n",
      "Epoch 11/100\n",
      "11/11 [==============================] - 0s 21ms/step - loss: 0.7004 - accuracy: 0.7952 - val_loss: 0.3352 - val_accuracy: 0.8882\n",
      "Epoch 12/100\n",
      "11/11 [==============================] - 0s 21ms/step - loss: 0.4992 - accuracy: 0.8427 - val_loss: 0.2801 - val_accuracy: 0.9161\n",
      "Epoch 13/100\n",
      "11/11 [==============================] - 0s 22ms/step - loss: 0.5084 - accuracy: 0.8359 - val_loss: 0.3274 - val_accuracy: 0.8891\n",
      "Epoch 14/100\n",
      "11/11 [==============================] - 0s 22ms/step - loss: 0.5418 - accuracy: 0.8337 - val_loss: 0.2949 - val_accuracy: 0.9089\n",
      "Epoch 15/100\n",
      "11/11 [==============================] - 0s 22ms/step - loss: 0.5470 - accuracy: 0.8286 - val_loss: 0.3745 - val_accuracy: 0.8864\n",
      "Epoch 16/100\n",
      "11/11 [==============================] - 0s 20ms/step - loss: 0.5309 - accuracy: 0.8399 - val_loss: 0.3222 - val_accuracy: 0.8936\n",
      "Epoch 17/100\n",
      "11/11 [==============================] - 0s 21ms/step - loss: 0.5642 - accuracy: 0.8247 - val_loss: 0.2971 - val_accuracy: 0.9017\n",
      "Epoch 18/100\n",
      "11/11 [==============================] - 0s 20ms/step - loss: 0.5975 - accuracy: 0.8161 - val_loss: 0.3289 - val_accuracy: 0.8981\n",
      "Epoch 19/100\n",
      "11/11 [==============================] - 0s 22ms/step - loss: 0.5278 - accuracy: 0.8352 - val_loss: 0.3400 - val_accuracy: 0.8828\n",
      "Epoch 20/100\n",
      "11/11 [==============================] - 0s 20ms/step - loss: 0.5340 - accuracy: 0.8374 - val_loss: 0.2803 - val_accuracy: 0.9143\n",
      "\n",
      "on epoch  20  lr was adjusted from  0.07000000029802322  to  0.04900000020861625\n",
      "Epoch 21/100\n",
      "11/11 [==============================] - 0s 22ms/step - loss: 0.5885 - accuracy: 0.8197 - val_loss: 0.3009 - val_accuracy: 0.9017\n",
      "Epoch 22/100\n",
      "11/11 [==============================] - 0s 21ms/step - loss: 0.5292 - accuracy: 0.8315 - val_loss: 0.2649 - val_accuracy: 0.9152\n",
      "Epoch 23/100\n",
      "11/11 [==============================] - 0s 19ms/step - loss: 0.4866 - accuracy: 0.8472 - val_loss: 0.2717 - val_accuracy: 0.9134\n",
      "Epoch 24/100\n",
      "11/11 [==============================] - 0s 21ms/step - loss: 0.4818 - accuracy: 0.8460 - val_loss: 0.2934 - val_accuracy: 0.9044\n",
      "Epoch 25/100\n",
      "11/11 [==============================] - 0s 22ms/step - loss: 0.5091 - accuracy: 0.8425 - val_loss: 0.3077 - val_accuracy: 0.8909\n",
      "Epoch 26/100\n",
      "11/11 [==============================] - 0s 20ms/step - loss: 0.4802 - accuracy: 0.8449 - val_loss: 0.2819 - val_accuracy: 0.9188\n",
      "Epoch 27/100\n",
      "11/11 [==============================] - 0s 22ms/step - loss: 0.4793 - accuracy: 0.8467 - val_loss: 0.2705 - val_accuracy: 0.9197\n",
      "Epoch 28/100\n",
      "11/11 [==============================] - 0s 21ms/step - loss: 0.5086 - accuracy: 0.8359 - val_loss: 0.2702 - val_accuracy: 0.9125\n",
      "Epoch 29/100\n",
      "11/11 [==============================] - 0s 22ms/step - loss: 0.4851 - accuracy: 0.8381 - val_loss: 0.2878 - val_accuracy: 0.9143\n",
      "Epoch 30/100\n",
      "11/11 [==============================] - 0s 21ms/step - loss: 0.4557 - accuracy: 0.8456 - val_loss: 0.2702 - val_accuracy: 0.9161\n",
      "\n",
      "on epoch  30  lr was adjusted from  0.04899999871850014  to  0.03429999910295009\n",
      "Epoch 31/100\n",
      "11/11 [==============================] - 0s 20ms/step - loss: 0.5039 - accuracy: 0.8362 - val_loss: 0.2805 - val_accuracy: 0.9080\n",
      "Epoch 32/100\n",
      "11/11 [==============================] - 0s 22ms/step - loss: 0.4277 - accuracy: 0.8588 - val_loss: 0.2608 - val_accuracy: 0.9170\n",
      "Epoch 33/100\n",
      "11/11 [==============================] - 0s 22ms/step - loss: 0.4352 - accuracy: 0.8598 - val_loss: 0.2682 - val_accuracy: 0.9170\n",
      "Epoch 34/100\n",
      "11/11 [==============================] - 0s 22ms/step - loss: 0.4756 - accuracy: 0.8462 - val_loss: 0.2685 - val_accuracy: 0.9116\n",
      "Epoch 35/100\n",
      "11/11 [==============================] - 0s 19ms/step - loss: 0.4434 - accuracy: 0.8516 - val_loss: 0.2797 - val_accuracy: 0.9107\n",
      "Epoch 36/100\n",
      "11/11 [==============================] - 0s 20ms/step - loss: 0.4982 - accuracy: 0.8394 - val_loss: 0.3298 - val_accuracy: 0.8864\n",
      "Epoch 37/100\n",
      "11/11 [==============================] - 0s 21ms/step - loss: 0.4600 - accuracy: 0.8569 - val_loss: 0.2716 - val_accuracy: 0.9170\n",
      "Epoch 38/100\n",
      "11/11 [==============================] - 0s 20ms/step - loss: 0.4479 - accuracy: 0.8627 - val_loss: 0.2575 - val_accuracy: 0.9216\n",
      "Epoch 39/100\n",
      "11/11 [==============================] - 0s 22ms/step - loss: 0.4464 - accuracy: 0.8525 - val_loss: 0.2665 - val_accuracy: 0.9188\n",
      "Epoch 40/100\n",
      "11/11 [==============================] - 0s 21ms/step - loss: 0.4635 - accuracy: 0.8536 - val_loss: 0.2545 - val_accuracy: 0.9234\n",
      "\n",
      "on epoch  40  lr was adjusted from  0.034299999475479126  to  0.024009999632835385\n",
      "Epoch 41/100\n",
      "11/11 [==============================] - 0s 20ms/step - loss: 0.4464 - accuracy: 0.8449 - val_loss: 0.2628 - val_accuracy: 0.9098\n",
      "Epoch 42/100\n",
      "11/11 [==============================] - 0s 22ms/step - loss: 0.4691 - accuracy: 0.8500 - val_loss: 0.2540 - val_accuracy: 0.9225\n",
      "Epoch 43/100\n",
      "11/11 [==============================] - 0s 21ms/step - loss: 0.4360 - accuracy: 0.8533 - val_loss: 0.2547 - val_accuracy: 0.9179\n",
      "Epoch 44/100\n",
      "11/11 [==============================] - 0s 19ms/step - loss: 0.4261 - accuracy: 0.8626 - val_loss: 0.2424 - val_accuracy: 0.9179\n",
      "Epoch 45/100\n",
      "11/11 [==============================] - 0s 22ms/step - loss: 0.4359 - accuracy: 0.8509 - val_loss: 0.2476 - val_accuracy: 0.9179\n",
      "Epoch 46/100\n",
      "11/11 [==============================] - 0s 22ms/step - loss: 0.4337 - accuracy: 0.8571 - val_loss: 0.2608 - val_accuracy: 0.9143\n",
      "Epoch 47/100\n",
      "11/11 [==============================] - 0s 22ms/step - loss: 0.4140 - accuracy: 0.8642 - val_loss: 0.2440 - val_accuracy: 0.9261\n",
      "Epoch 48/100\n",
      "11/11 [==============================] - 0s 21ms/step - loss: 0.4356 - accuracy: 0.8593 - val_loss: 0.2515 - val_accuracy: 0.9225\n",
      "Epoch 49/100\n",
      "11/11 [==============================] - 0s 20ms/step - loss: 0.4303 - accuracy: 0.8588 - val_loss: 0.2420 - val_accuracy: 0.9279\n",
      "Epoch 50/100\n",
      "11/11 [==============================] - 0s 22ms/step - loss: 0.4175 - accuracy: 0.8677 - val_loss: 0.2450 - val_accuracy: 0.9225\n",
      "\n",
      "on epoch  50  lr was adjusted from  0.02400999888777733  to  0.01680699922144413\n",
      "Epoch 51/100\n",
      "11/11 [==============================] - 0s 21ms/step - loss: 0.4555 - accuracy: 0.8630 - val_loss: 0.2412 - val_accuracy: 0.9243\n",
      "Epoch 52/100\n",
      "11/11 [==============================] - 0s 22ms/step - loss: 0.4206 - accuracy: 0.8675 - val_loss: 0.2511 - val_accuracy: 0.9270\n",
      "Epoch 53/100\n",
      "11/11 [==============================] - 0s 19ms/step - loss: 0.4057 - accuracy: 0.8626 - val_loss: 0.2413 - val_accuracy: 0.9270\n",
      "Epoch 54/100\n",
      "11/11 [==============================] - 0s 22ms/step - loss: 0.4274 - accuracy: 0.8713 - val_loss: 0.2375 - val_accuracy: 0.9324\n",
      "Epoch 55/100\n"
     ]
    },
    {
     "name": "stdout",
     "output_type": "stream",
     "text": [
      "11/11 [==============================] - 0s 19ms/step - loss: 0.4231 - accuracy: 0.8629 - val_loss: 0.2552 - val_accuracy: 0.9225\n",
      "Epoch 56/100\n",
      "11/11 [==============================] - 0s 22ms/step - loss: 0.4342 - accuracy: 0.8637 - val_loss: 0.2420 - val_accuracy: 0.9261\n",
      "Epoch 57/100\n",
      "11/11 [==============================] - 0s 22ms/step - loss: 0.4080 - accuracy: 0.8628 - val_loss: 0.2542 - val_accuracy: 0.9243\n",
      "Epoch 58/100\n",
      "11/11 [==============================] - 0s 20ms/step - loss: 0.4078 - accuracy: 0.8664 - val_loss: 0.2362 - val_accuracy: 0.9324\n",
      "Epoch 59/100\n",
      "11/11 [==============================] - 0s 22ms/step - loss: 0.3906 - accuracy: 0.8836 - val_loss: 0.2434 - val_accuracy: 0.9306\n",
      "Epoch 60/100\n",
      "11/11 [==============================] - 0s 21ms/step - loss: 0.3736 - accuracy: 0.8813 - val_loss: 0.2346 - val_accuracy: 0.9270\n",
      "\n",
      "on epoch  60  lr was adjusted from  0.01680699922144413  to  0.01176489945501089\n",
      "Epoch 61/100\n",
      "11/11 [==============================] - 0s 22ms/step - loss: 0.3990 - accuracy: 0.8703 - val_loss: 0.2276 - val_accuracy: 0.9315\n",
      "Epoch 62/100\n",
      "11/11 [==============================] - 0s 21ms/step - loss: 0.4006 - accuracy: 0.8692 - val_loss: 0.2399 - val_accuracy: 0.9252\n",
      "Epoch 63/100\n",
      "11/11 [==============================] - 0s 20ms/step - loss: 0.4030 - accuracy: 0.8721 - val_loss: 0.2411 - val_accuracy: 0.9252\n",
      "Epoch 64/100\n",
      "11/11 [==============================] - 0s 20ms/step - loss: 0.4156 - accuracy: 0.8660 - val_loss: 0.2375 - val_accuracy: 0.9333\n",
      "Epoch 65/100\n",
      "11/11 [==============================] - 0s 21ms/step - loss: 0.3945 - accuracy: 0.8760 - val_loss: 0.2388 - val_accuracy: 0.9270\n",
      "Epoch 66/100\n",
      "11/11 [==============================] - 0s 22ms/step - loss: 0.4180 - accuracy: 0.8609 - val_loss: 0.2367 - val_accuracy: 0.9324\n",
      "Epoch 67/100\n",
      "11/11 [==============================] - 0s 21ms/step - loss: 0.4092 - accuracy: 0.8690 - val_loss: 0.2427 - val_accuracy: 0.9288\n",
      "Epoch 68/100\n",
      "11/11 [==============================] - 0s 22ms/step - loss: 0.3689 - accuracy: 0.8789 - val_loss: 0.2390 - val_accuracy: 0.9333\n",
      "Epoch 69/100\n",
      "11/11 [==============================] - 0s 21ms/step - loss: 0.3784 - accuracy: 0.8588 - val_loss: 0.2359 - val_accuracy: 0.9279\n",
      "Epoch 70/100\n",
      "11/11 [==============================] - 0s 22ms/step - loss: 0.4229 - accuracy: 0.8708 - val_loss: 0.2375 - val_accuracy: 0.9306\n",
      "\n",
      "on epoch  70  lr was adjusted from  0.01176489982753992  to  0.008235429879277945\n",
      "Epoch 71/100\n",
      "11/11 [==============================] - 0s 22ms/step - loss: 0.3990 - accuracy: 0.8745 - val_loss: 0.2345 - val_accuracy: 0.9270\n",
      "Epoch 72/100\n",
      "11/11 [==============================] - 0s 21ms/step - loss: 0.3987 - accuracy: 0.8684 - val_loss: 0.2327 - val_accuracy: 0.9270\n",
      "Epoch 73/100\n",
      "11/11 [==============================] - 0s 21ms/step - loss: 0.3998 - accuracy: 0.8718 - val_loss: 0.2301 - val_accuracy: 0.9288\n",
      "Epoch 74/100\n",
      "11/11 [==============================] - 0s 22ms/step - loss: 0.4169 - accuracy: 0.8681 - val_loss: 0.2352 - val_accuracy: 0.9270\n",
      "Epoch 75/100\n",
      "11/11 [==============================] - 0s 20ms/step - loss: 0.4025 - accuracy: 0.8713 - val_loss: 0.2335 - val_accuracy: 0.9243\n",
      "Epoch 76/100\n",
      "11/11 [==============================] - 0s 22ms/step - loss: 0.3950 - accuracy: 0.8615 - val_loss: 0.2422 - val_accuracy: 0.9270\n",
      "Epoch 77/100\n",
      "11/11 [==============================] - 0s 20ms/step - loss: 0.4178 - accuracy: 0.8560 - val_loss: 0.2320 - val_accuracy: 0.9306\n",
      "Epoch 78/100\n",
      "11/11 [==============================] - 0s 22ms/step - loss: 0.4016 - accuracy: 0.8674 - val_loss: 0.2300 - val_accuracy: 0.9315\n",
      "Epoch 79/100\n",
      "11/11 [==============================] - 0s 21ms/step - loss: 0.3887 - accuracy: 0.8707 - val_loss: 0.2402 - val_accuracy: 0.9324\n",
      "Epoch 80/100\n",
      "11/11 [==============================] - 0s 22ms/step - loss: 0.4085 - accuracy: 0.8661 - val_loss: 0.2337 - val_accuracy: 0.9306\n",
      "\n",
      "on epoch  80  lr was adjusted from  0.008235430344939232  to  0.005764801241457462\n",
      "Epoch 81/100\n",
      "11/11 [==============================] - 0s 21ms/step - loss: 0.3914 - accuracy: 0.8798 - val_loss: 0.2318 - val_accuracy: 0.9315\n",
      "Epoch 82/100\n",
      "11/11 [==============================] - 0s 22ms/step - loss: 0.3839 - accuracy: 0.8774 - val_loss: 0.2355 - val_accuracy: 0.9243\n",
      "Epoch 83/100\n",
      "11/11 [==============================] - 0s 21ms/step - loss: 0.3915 - accuracy: 0.8751 - val_loss: 0.2313 - val_accuracy: 0.9315\n",
      "Epoch 84/100\n",
      "11/11 [==============================] - 0s 22ms/step - loss: 0.3755 - accuracy: 0.8745 - val_loss: 0.2300 - val_accuracy: 0.9333\n",
      "Epoch 85/100\n",
      "11/11 [==============================] - 0s 22ms/step - loss: 0.3890 - accuracy: 0.8710 - val_loss: 0.2374 - val_accuracy: 0.9243\n",
      "Epoch 86/100\n",
      "11/11 [==============================] - 0s 22ms/step - loss: 0.4045 - accuracy: 0.8612 - val_loss: 0.2296 - val_accuracy: 0.9297\n",
      "Epoch 87/100\n",
      "11/11 [==============================] - 0s 20ms/step - loss: 0.3899 - accuracy: 0.8768 - val_loss: 0.2256 - val_accuracy: 0.9324\n",
      "Epoch 88/100\n",
      "11/11 [==============================] - 0s 22ms/step - loss: 0.3797 - accuracy: 0.8812 - val_loss: 0.2318 - val_accuracy: 0.9297\n",
      "Epoch 89/100\n",
      "11/11 [==============================] - 0s 20ms/step - loss: 0.3839 - accuracy: 0.8767 - val_loss: 0.2305 - val_accuracy: 0.9288\n",
      "Epoch 90/100\n",
      "11/11 [==============================] - 0s 19ms/step - loss: 0.4025 - accuracy: 0.8710 - val_loss: 0.2281 - val_accuracy: 0.9306\n",
      "\n",
      "on epoch  90  lr was adjusted from  0.005764801055192947  to  0.004035360738635063\n",
      "Epoch 91/100\n",
      "11/11 [==============================] - 0s 22ms/step - loss: 0.3835 - accuracy: 0.8692 - val_loss: 0.2308 - val_accuracy: 0.9333\n",
      "Epoch 92/100\n",
      "11/11 [==============================] - 0s 21ms/step - loss: 0.3909 - accuracy: 0.8679 - val_loss: 0.2291 - val_accuracy: 0.9279\n",
      "Epoch 93/100\n",
      "11/11 [==============================] - 0s 22ms/step - loss: 0.3788 - accuracy: 0.8752 - val_loss: 0.2309 - val_accuracy: 0.9279\n",
      "Epoch 94/100\n",
      "11/11 [==============================] - 0s 22ms/step - loss: 0.4215 - accuracy: 0.8649 - val_loss: 0.2313 - val_accuracy: 0.9252\n",
      "Epoch 95/100\n",
      "11/11 [==============================] - 0s 21ms/step - loss: 0.3927 - accuracy: 0.8783 - val_loss: 0.2308 - val_accuracy: 0.9288\n",
      "Epoch 96/100\n",
      "11/11 [==============================] - 0s 22ms/step - loss: 0.3921 - accuracy: 0.8755 - val_loss: 0.2292 - val_accuracy: 0.9315\n",
      "Epoch 97/100\n",
      "11/11 [==============================] - 0s 20ms/step - loss: 0.3851 - accuracy: 0.8738 - val_loss: 0.2332 - val_accuracy: 0.9288\n",
      "Epoch 98/100\n",
      "11/11 [==============================] - 0s 21ms/step - loss: 0.3736 - accuracy: 0.8737 - val_loss: 0.2306 - val_accuracy: 0.9297\n",
      "Epoch 99/100\n",
      "11/11 [==============================] - 0s 18ms/step - loss: 0.3696 - accuracy: 0.8799 - val_loss: 0.2289 - val_accuracy: 0.9261\n",
      "Epoch 100/100\n",
      "11/11 [==============================] - 0s 19ms/step - loss: 0.3715 - accuracy: 0.8777 - val_loss: 0.2307 - val_accuracy: 0.9270\n",
      "\n",
      "on epoch  100  lr was adjusted from  0.004035360645502806  to  0.0028247524518519636\n"
     ]
    }
   ],
   "source": [
    "history = model_1_to_tune.fit(shuffled_x_train, shuffled_y_train, epochs = 100, validation_split = 0.3, batch_size=256, callbacks=[callbacks])"
   ]
  },
  {
   "cell_type": "code",
   "execution_count": 22,
   "id": "c8f315fc",
   "metadata": {},
   "outputs": [
    {
     "data": {
      "image/png": "[encoded data removed]",
      "text/plain": [
       "<Figure size 800x800 with 2 Axes>"
      ]
     },
     "metadata": {},
     "output_type": "display_data"
    }
   ],
   "source": [
    "acc = history.history['accuracy']\n",
    "val_acc = history.history['val_accuracy']\n",
    "\n",
    "loss = history.history['loss']\n",
    "val_loss = history.history['val_loss']\n",
    "\n",
    "plt.figure(figsize=(8, 8))\n",
    "plt.subplot(2, 1, 1)\n",
    "plt.plot(acc, label='Training Accuracy')\n",
    "plt.plot(val_acc, label='Validation Accuracy')\n",
    "plt.legend(loc='lower right')\n",
    "plt.ylabel('Accuracy')\n",
    "plt.ylim([min(plt.ylim()),1])\n",
    "plt.title('Training and Validation Accuracy')\n",
    "\n",
    "plt.subplot(2, 1, 2)\n",
    "plt.plot(loss, label='Training Loss')\n",
    "plt.plot(val_loss, label='Validation Loss')\n",
    "plt.legend(loc='upper right')\n",
    "plt.ylabel('Cross Entropy')\n",
    "plt.ylim([0,1.0])\n",
    "plt.title('Training and Validation Loss')\n",
    "plt.xlabel('epoch')\n",
    "plt.show()"
   ]
  },
  {
   "cell_type": "code",
   "execution_count": 24,
   "id": "b1f48267",
   "metadata": {},
   "outputs": [],
   "source": [
    "import numpy as np\n",
    "\n",
    "font_scale = 1.0\n",
    "font = cv2.FONT_HERSHEY_PLAIN\n",
    "\n",
    "cap = cv2.VideoCapture(\"test3.webm\")\n",
    "# Check if video is opened correctly\n",
    "if not cap.isOpened():\n",
    "    cap = cv2.VideoCapture(0)\n",
    "if not cap.isOpened():\n",
    "    raise IOError(\"Cannot open video\")\n",
    "\n",
    "paused = False  # Flag to track video pause state\n",
    "frame_number = 0  # Store the frame number when pausing\n",
    "\n",
    "while True:\n",
    "    if not paused:\n",
    "        ret, frame = cap.read()\n",
    "        if not ret:\n",
    "            break\n",
    "        frame_number += 1\n",
    "\n",
    "        gray = cv2.cvtColor(frame, cv2.COLOR_BGR2GRAY)\n",
    "        resized = cv2.resize(gray, (28, 28), interpolation=cv2.INTER_AREA)\n",
    "        newimg = tf.keras.utils.normalize(resized, axis=1)\n",
    "        newimg = np.array(newimg).reshape(-1, IMG_SIZE, IMG_SIZE, 1)\n",
    "        predictions = model_1_to_tune.predict(newimg)\n",
    "        status = np.argmax(predictions)\n",
    "        probabilities = predictions[0]\n",
    "\n",
    "        x1, y1, w1, h1 = 0, 0, 175, 75\n",
    "        # Draw black background rectangle\n",
    "#         cv2.rectangle(frame, (x1, x1), (x1 + w1 + 80, y1 + h1), (0, 255, 0), -1)\n",
    "        # Add text for predicted value\n",
    "        text = \"Predicted value: \" + str(status)\n",
    "        text_width, text_height = cv2.getTextSize(text, font, fontScale=font_scale, thickness=1)[0]\n",
    "        x_text = x1 + int(w1 / 5)\n",
    "        y_text = y1 + int(h1 / 2) + int(text_height / 2)\n",
    "        cv2.putText(frame, text, (x_text, y_text), font, font_scale, (0, 0, 255), 1)\n",
    "        # Add text for probabilities\n",
    "        for i, prob in enumerate(probabilities):\n",
    "            text_prob = f\"Prob {i}: {prob*100:.2f}%\"\n",
    "            y_text_prob = y_text + (i + 1) * 20  # Adjust spacing between probabilities\n",
    "            cv2.putText(frame, text_prob, (x_text, y_text_prob), font, font_scale, (0, 0, 255), 1)\n",
    "\n",
    "        cv2.imshow(\"MNIST data CNN model result video\", frame)\n",
    "\n",
    "    key = cv2.waitKey(1)\n",
    "    if key == ord(' '):  # Pause/unpause video on spacebar press\n",
    "        paused = not paused\n",
    "        if paused:\n",
    "            frame_number -= 1  # Adjust frame number to resume from the current frame\n",
    "    elif key == ord('q'):\n",
    "        break\n",
    "\n",
    "    # Seek to the stored frame number if unpausing\n",
    "    if not paused:\n",
    "        cap.set(cv2.CAP_PROP_POS_FRAMES, frame_number)\n",
    "\n",
    "cap.release()\n",
    "cv2.destroyAllWindows()\n"
   ]
  },
  {
   "cell_type": "markdown",
   "id": "84dc9667",
   "metadata": {},
   "source": [
    "## "
   ]
  }
 ],
 "metadata": {
  "kernelspec": {
   "display_name": "Python 3.7 (tensorflow)",
   "language": "python",
   "name": "tensorflow"
  },
  "language_info": {
   "codemirror_mode": {
    "name": "ipython",
    "version": 3
   },
   "file_extension": ".py",
   "mimetype": "text/x-python",
   "name": "python",
   "nbconvert_exporter": "python",
   "pygments_lexer": "ipython3",
   "version": "3.7.16"
  }
 },
 "nbformat": 4,
 "nbformat_minor": 5
}
